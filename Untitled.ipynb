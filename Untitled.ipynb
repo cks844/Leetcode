{
 "cells": [
  {
   "cell_type": "code",
   "execution_count": 11,
   "id": "277559d8-2b3d-412c-99e4-b4e3da2dd57b",
   "metadata": {},
   "outputs": [],
   "source": [
    "arr = [1,1,1,1]\n",
    "ind = arr.index(max(arr))"
   ]
  },
  {
   "cell_type": "code",
   "execution_count": 12,
   "id": "d07cd8b7-0fd1-4c49-8572-3f6e7edd00b8",
   "metadata": {},
   "outputs": [
    {
     "data": {
      "text/plain": [
       "0"
      ]
     },
     "execution_count": 12,
     "metadata": {},
     "output_type": "execute_result"
    }
   ],
   "source": [
    "ind"
   ]
  },
  {
   "cell_type": "code",
   "execution_count": 14,
   "id": "b49947bb-545b-4565-9954-f299c3704612",
   "metadata": {},
   "outputs": [
    {
     "data": {
      "text/plain": [
       "1"
      ]
     },
     "execution_count": 14,
     "metadata": {},
     "output_type": "execute_result"
    }
   ],
   "source": [
    "def peak(nums):\n",
    "    for i in range(len(nums)-1):\n",
    "        if nums[i]>nums[i+1]:\n",
    "            return i\n",
    "    return len(nums)-1\n",
    "peak([10, 20, 15, 2, 23, 90, 67])"
   ]
  },
  {
   "cell_type": "code",
   "execution_count": null,
   "id": "8d290426-c37f-42db-84cb-2fded86a6d97",
   "metadata": {},
   "outputs": [],
   "source": []
  }
 ],
 "metadata": {
  "kernelspec": {
   "display_name": "Python 3 (ipykernel)",
   "language": "python",
   "name": "python3"
  },
  "language_info": {
   "codemirror_mode": {
    "name": "ipython",
    "version": 3
   },
   "file_extension": ".py",
   "mimetype": "text/x-python",
   "name": "python",
   "nbconvert_exporter": "python",
   "pygments_lexer": "ipython3",
   "version": "3.11.7"
  }
 },
 "nbformat": 4,
 "nbformat_minor": 5
}
